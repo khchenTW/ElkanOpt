{
 "cells": [
  {
   "cell_type": "code",
   "execution_count": 1,
   "metadata": {},
   "outputs": [],
   "source": [
    "from sklearn.datasets import load_svmlight_file\n",
    "from sklearn.datasets import load_svmlight_files"
   ]
  },
  {
   "cell_type": "code",
   "execution_count": null,
   "metadata": {
    "scrolled": true
   },
   "outputs": [],
   "source": [
    "x1 = load_svmlight_file(\"/home/qiao/Desktop/fast-kmeans-master/datasets/HIGGS\")"
   ]
  },
  {
   "cell_type": "code",
   "execution_count": null,
   "metadata": {},
   "outputs": [],
   "source": [
    "x1,y1,x2,y2,x3,y3,x4,y4,x5,y5,x6,y6,x7,y7,x8,y8,x9,y9,x10,y10=load_svmlight_files((\"/home/qiao/Desktop/fast-kmeans-master/datasets/gassensor/batch1.dat\",\n",
    "                                                                                   \"/home/qiao/Desktop/fast-kmeans-master/datasets/gassensor/batch2.dat\",\n",
    "                                                                                  \"/home/qiao/Desktop/fast-kmeans-master/datasets/gassensor/batch3.dat\",\n",
    "                                                                                  \"/home/qiao/Desktop/fast-kmeans-master/datasets/gassensor/batch4.dat\",\n",
    "                                                                                  \"/home/qiao/Desktop/fast-kmeans-master/datasets/gassensor/batch5.dat\",\n",
    "                                                                                  \"/home/qiao/Desktop/fast-kmeans-master/datasets/gassensor/batch6.dat\",\n",
    "                                                                                  \"/home/qiao/Desktop/fast-kmeans-master/datasets/gassensor/batch7.dat\",\n",
    "                                                                                  \"/home/qiao/Desktop/fast-kmeans-master/datasets/gassensor/batch8.dat\",\n",
    "                                                                                  \"/home/qiao/Desktop/fast-kmeans-master/datasets/gassensor/batch9.dat\",\n",
    "                                                                                  \"/home/qiao/Desktop/fast-kmeans-master/datasets/gassensor/batch10.dat\"))\n",
    "B=x1.toarray().tolist()+x2.toarray().tolist()+x3.toarray().tolist()+x4.toarray().tolist()+x5.toarray().tolist()+x6.toarray().tolist()+x7.toarray().tolist()+x8.toarray().tolist()+x9.toarray().tolist()+x10.toarray().tolist()"
   ]
  },
  {
   "cell_type": "code",
   "execution_count": null,
   "metadata": {},
   "outputs": [],
   "source": []
  },
  {
   "cell_type": "code",
   "execution_count": null,
   "metadata": {},
   "outputs": [],
   "source": [
    "B = x1[0].toarray()\n",
    "\n",
    "#for i,line in enumerate(B):\n",
    "    #print (line)"
   ]
  },
  {
   "cell_type": "code",
   "execution_count": null,
   "metadata": {},
   "outputs": [],
   "source": []
  },
  {
   "cell_type": "code",
   "execution_count": 5,
   "metadata": {},
   "outputs": [],
   "source": [
    "#for toarray\n",
    "with open('/home/qiao/Desktop/fast-kmeans-master/datasets/HIGGS.txt', 'w') as myfile:\n",
    "    for i,line in enumerate(B):\n",
    "        #myfile.write(\"%s\\n\" % line)\n",
    "        \n",
    "        line=str(line)+\"\\n\"\n",
    "        \n",
    "        myfile.writelines(line.replace('[','').replace(']',''))"
   ]
  },
  {
   "cell_type": "code",
   "execution_count": 11,
   "metadata": {},
   "outputs": [],
   "source": [
    "#for tolist\n",
    "import re\n",
    "#B = x1[0].toarray().tolist()\n",
    "\n",
    "with open('/home/qiao/Desktop/fast-kmeans-master/datasets/gassensor.txt', 'w') as myfile:\n",
    "    for i,line in enumerate(B):\n",
    "        #myfile.write(\"%s\\n\" % line)\n",
    "        \n",
    "        line=str(line)+\"\\n\"\n",
    "        \n",
    "        myfile.writelines(line.replace('[','').replace(']','').replace(',',' '))\n",
    "#print (B)\n",
    "#for i in B:\n",
    "    #print (i)\n"
   ]
  },
  {
   "cell_type": "code",
   "execution_count": 12,
   "metadata": {},
   "outputs": [],
   "source": [
    "def insert(originalfile,string):\n",
    "    with open(originalfile,'r') as f:\n",
    "        with open('/home/qiao/Downloads/datasets/gassensor_clean.txt','w') as f2: \n",
    "            f2.write(string)\n",
    "            f2.write(f.read())\n",
    "    #os.rename('newfile.txt',originalfile)\n",
    "file=insert('/home/qiao/Downloads/fast-kmeans-master/datasets/gassensor.txt',\"14000 128\\n\")"
   ]
  },
  {
   "cell_type": "code",
   "execution_count": 1,
   "metadata": {},
   "outputs": [],
   "source": [
    "#save memory\n",
    "f = open('/home/qiao/Downloads/fast-kmeans-master/datasets/HIGGS.txt','r')\n",
    "temp = f.read()\n",
    "f.close()\n",
    "\n",
    "f = open('/home/qiao/Downloads/datasets/HIGGS_clean.txt', 'w')\n",
    "f.write(\"11000000 28\\n\")\n",
    "\n",
    "f.write(temp)\n",
    "f.close()"
   ]
  },
  {
   "cell_type": "code",
   "execution_count": null,
   "metadata": {},
   "outputs": [],
   "source": []
  }
 ],
 "metadata": {
  "kernelspec": {
   "display_name": "Python 3",
   "language": "python",
   "name": "python3"
  },
  "language_info": {
   "codemirror_mode": {
    "name": "ipython",
    "version": 3
   },
   "file_extension": ".py",
   "mimetype": "text/x-python",
   "name": "python",
   "nbconvert_exporter": "python",
   "pygments_lexer": "ipython3",
   "version": "3.7.3"
  }
 },
 "nbformat": 4,
 "nbformat_minor": 2
}
